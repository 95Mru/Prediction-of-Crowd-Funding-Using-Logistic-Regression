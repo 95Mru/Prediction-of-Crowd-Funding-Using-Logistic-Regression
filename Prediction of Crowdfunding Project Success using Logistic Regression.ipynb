{
 "cells": [
  {
   "cell_type": "code",
   "execution_count": 1,
   "metadata": {},
   "outputs": [],
   "source": [
    "# Importing the required libraries\n",
    "import pandas as pd\n",
    "import numpy as np\n",
    "import matplotlib.pyplot as plt\n",
    "%matplotlib inline\n",
    "from matplotlib import cm\n",
    "import glob # To read all csv files in the directory\n",
    "from sklearn.preprocessing import StandardScaler\n",
    "from sklearn.model_selection import train_test_split\n",
    "from sklearn.linear_model import LogisticRegression\n",
    "from sklearn.metrics import classification_report\n",
    "# from sklearn.decomposition import PCA\n",
    "# from sklearn.pipeline import Pipeline\n",
    "# from sklearn.model_selection import GridSearchCV\n",
    "from sklearn.metrics import confusion_matrix, f1_score, precision_recall_fscore_support"
   ]
  },
  {
   "cell_type": "code",
   "execution_count": 2,
   "metadata": {},
   "outputs": [],
   "source": [
    "#Creating a DataFrame by combining the all the CSV files into one and reading the data\n",
    "data_frame = pd.concat([pd.read_csv(f) for f in glob.glob('C:/Users/jayap/Desktop/Mrudani/Individual project/Kickstarter_2019-02-14T03_20_04_734Z/Kickstarter*.csv')], ignore_index = True)"
   ]
  },
  {
   "cell_type": "code",
   "execution_count": 3,
   "metadata": {},
   "outputs": [
    {
     "data": {
      "text/html": [
       "<div>\n",
       "<style scoped>\n",
       "    .dataframe tbody tr th:only-of-type {\n",
       "        vertical-align: middle;\n",
       "    }\n",
       "\n",
       "    .dataframe tbody tr th {\n",
       "        vertical-align: top;\n",
       "    }\n",
       "\n",
       "    .dataframe thead th {\n",
       "        text-align: right;\n",
       "    }\n",
       "</style>\n",
       "<table border=\"1\" class=\"dataframe\">\n",
       "  <thead>\n",
       "    <tr style=\"text-align: right;\">\n",
       "      <th></th>\n",
       "      <th>backers_count</th>\n",
       "      <th>blurb</th>\n",
       "      <th>category</th>\n",
       "      <th>converted_pledged_amount</th>\n",
       "      <th>country</th>\n",
       "      <th>created_at</th>\n",
       "      <th>creator</th>\n",
       "      <th>currency</th>\n",
       "      <th>currency_symbol</th>\n",
       "      <th>currency_trailing_code</th>\n",
       "      <th>...</th>\n",
       "      <th>slug</th>\n",
       "      <th>source_url</th>\n",
       "      <th>spotlight</th>\n",
       "      <th>staff_pick</th>\n",
       "      <th>state</th>\n",
       "      <th>state_changed_at</th>\n",
       "      <th>static_usd_rate</th>\n",
       "      <th>urls</th>\n",
       "      <th>usd_pledged</th>\n",
       "      <th>usd_type</th>\n",
       "    </tr>\n",
       "  </thead>\n",
       "  <tbody>\n",
       "    <tr>\n",
       "      <th>0</th>\n",
       "      <td>4</td>\n",
       "      <td>Handmade glass trees that make a special Chris...</td>\n",
       "      <td>{\"id\":347,\"name\":\"Glass\",\"slug\":\"crafts/glass\"...</td>\n",
       "      <td>205</td>\n",
       "      <td>US</td>\n",
       "      <td>1464927602</td>\n",
       "      <td>{\"id\":661261267,\"name\":\"Mark &amp; Julie Glocke\",\"...</td>\n",
       "      <td>USD</td>\n",
       "      <td>$</td>\n",
       "      <td>True</td>\n",
       "      <td>...</td>\n",
       "      <td>glass-christmas-trees-and-glass-cross</td>\n",
       "      <td>https://www.kickstarter.com/discover/categorie...</td>\n",
       "      <td>False</td>\n",
       "      <td>False</td>\n",
       "      <td>failed</td>\n",
       "      <td>1466474764</td>\n",
       "      <td>1.000000</td>\n",
       "      <td>{\"web\":{\"project\":\"https://www.kickstarter.com...</td>\n",
       "      <td>205.000000</td>\n",
       "      <td>domestic</td>\n",
       "    </tr>\n",
       "    <tr>\n",
       "      <th>1</th>\n",
       "      <td>171</td>\n",
       "      <td>Perfect pair of Socks for any Adventurer! Sock...</td>\n",
       "      <td>{\"id\":34,\"name\":\"Tabletop Games\",\"slug\":\"games...</td>\n",
       "      <td>6061</td>\n",
       "      <td>US</td>\n",
       "      <td>1540391660</td>\n",
       "      <td>{\"id\":497057119,\"name\":\"Andy \"Cosmo-Joe\" Watki...</td>\n",
       "      <td>USD</td>\n",
       "      <td>$</td>\n",
       "      <td>True</td>\n",
       "      <td>...</td>\n",
       "      <td>socks-of-speed-and-socks-of-elvenkind</td>\n",
       "      <td>https://www.kickstarter.com/discover/categorie...</td>\n",
       "      <td>True</td>\n",
       "      <td>False</td>\n",
       "      <td>successful</td>\n",
       "      <td>1542304740</td>\n",
       "      <td>1.000000</td>\n",
       "      <td>{\"web\":{\"project\":\"https://www.kickstarter.com...</td>\n",
       "      <td>6061.000000</td>\n",
       "      <td>international</td>\n",
       "    </tr>\n",
       "    <tr>\n",
       "      <th>2</th>\n",
       "      <td>9</td>\n",
       "      <td>This is a Series of 6 Books on Blessed Oscar A...</td>\n",
       "      <td>{\"id\":327,\"name\":\"Translations\",\"slug\":\"publis...</td>\n",
       "      <td>800</td>\n",
       "      <td>US</td>\n",
       "      <td>1434584826</td>\n",
       "      <td>{\"id\":267701790,\"name\":\"Convivium Press\",\"slug...</td>\n",
       "      <td>USD</td>\n",
       "      <td>$</td>\n",
       "      <td>True</td>\n",
       "      <td>...</td>\n",
       "      <td>the-complete-homilies-of-blessed-oscar-romero-...</td>\n",
       "      <td>https://www.kickstarter.com/discover/categorie...</td>\n",
       "      <td>False</td>\n",
       "      <td>False</td>\n",
       "      <td>failed</td>\n",
       "      <td>1439741591</td>\n",
       "      <td>1.000000</td>\n",
       "      <td>{\"web\":{\"project\":\"https://www.kickstarter.com...</td>\n",
       "      <td>800.000000</td>\n",
       "      <td>domestic</td>\n",
       "    </tr>\n",
       "    <tr>\n",
       "      <th>3</th>\n",
       "      <td>24</td>\n",
       "      <td>Prodeus makes self employment simple and intui...</td>\n",
       "      <td>{\"id\":342,\"name\":\"Web\",\"slug\":\"technology/web\"...</td>\n",
       "      <td>1484</td>\n",
       "      <td>US</td>\n",
       "      <td>1493997043</td>\n",
       "      <td>{\"id\":973039847,\"name\":\"James Harr\",\"is_regist...</td>\n",
       "      <td>USD</td>\n",
       "      <td>$</td>\n",
       "      <td>True</td>\n",
       "      <td>...</td>\n",
       "      <td>prodeus-social-network-learning-community-micr...</td>\n",
       "      <td>https://www.kickstarter.com/discover/categorie...</td>\n",
       "      <td>False</td>\n",
       "      <td>False</td>\n",
       "      <td>failed</td>\n",
       "      <td>1498060876</td>\n",
       "      <td>1.000000</td>\n",
       "      <td>{\"web\":{\"project\":\"https://www.kickstarter.com...</td>\n",
       "      <td>1484.000000</td>\n",
       "      <td>domestic</td>\n",
       "    </tr>\n",
       "    <tr>\n",
       "      <th>4</th>\n",
       "      <td>62</td>\n",
       "      <td>Welcome to Dungeon Corp LTD, a Dungeons and Dr...</td>\n",
       "      <td>{\"id\":250,\"name\":\"Comic Books\",\"slug\":\"comics/...</td>\n",
       "      <td>1066</td>\n",
       "      <td>ES</td>\n",
       "      <td>1544546012</td>\n",
       "      <td>{\"id\":496847178,\"name\":\"Eternalverse\",\"slug\":\"...</td>\n",
       "      <td>EUR</td>\n",
       "      <td>€</td>\n",
       "      <td>False</td>\n",
       "      <td>...</td>\n",
       "      <td>dungeon-corp-ltd-the-adventures-of-bob-and-tim</td>\n",
       "      <td>https://www.kickstarter.com/discover/categorie...</td>\n",
       "      <td>False</td>\n",
       "      <td>True</td>\n",
       "      <td>live</td>\n",
       "      <td>1547165608</td>\n",
       "      <td>1.155864</td>\n",
       "      <td>{\"web\":{\"project\":\"https://www.kickstarter.com...</td>\n",
       "      <td>1087.667629</td>\n",
       "      <td>domestic</td>\n",
       "    </tr>\n",
       "  </tbody>\n",
       "</table>\n",
       "<p>5 rows × 37 columns</p>\n",
       "</div>"
      ],
      "text/plain": [
       "   backers_count                                              blurb  \\\n",
       "0              4  Handmade glass trees that make a special Chris...   \n",
       "1            171  Perfect pair of Socks for any Adventurer! Sock...   \n",
       "2              9  This is a Series of 6 Books on Blessed Oscar A...   \n",
       "3             24  Prodeus makes self employment simple and intui...   \n",
       "4             62  Welcome to Dungeon Corp LTD, a Dungeons and Dr...   \n",
       "\n",
       "                                            category  \\\n",
       "0  {\"id\":347,\"name\":\"Glass\",\"slug\":\"crafts/glass\"...   \n",
       "1  {\"id\":34,\"name\":\"Tabletop Games\",\"slug\":\"games...   \n",
       "2  {\"id\":327,\"name\":\"Translations\",\"slug\":\"publis...   \n",
       "3  {\"id\":342,\"name\":\"Web\",\"slug\":\"technology/web\"...   \n",
       "4  {\"id\":250,\"name\":\"Comic Books\",\"slug\":\"comics/...   \n",
       "\n",
       "   converted_pledged_amount country  created_at  \\\n",
       "0                       205      US  1464927602   \n",
       "1                      6061      US  1540391660   \n",
       "2                       800      US  1434584826   \n",
       "3                      1484      US  1493997043   \n",
       "4                      1066      ES  1544546012   \n",
       "\n",
       "                                             creator currency currency_symbol  \\\n",
       "0  {\"id\":661261267,\"name\":\"Mark & Julie Glocke\",\"...      USD               $   \n",
       "1  {\"id\":497057119,\"name\":\"Andy \"Cosmo-Joe\" Watki...      USD               $   \n",
       "2  {\"id\":267701790,\"name\":\"Convivium Press\",\"slug...      USD               $   \n",
       "3  {\"id\":973039847,\"name\":\"James Harr\",\"is_regist...      USD               $   \n",
       "4  {\"id\":496847178,\"name\":\"Eternalverse\",\"slug\":\"...      EUR               €   \n",
       "\n",
       "   currency_trailing_code      ...        \\\n",
       "0                    True      ...         \n",
       "1                    True      ...         \n",
       "2                    True      ...         \n",
       "3                    True      ...         \n",
       "4                   False      ...         \n",
       "\n",
       "                                                slug  \\\n",
       "0              glass-christmas-trees-and-glass-cross   \n",
       "1              socks-of-speed-and-socks-of-elvenkind   \n",
       "2  the-complete-homilies-of-blessed-oscar-romero-...   \n",
       "3  prodeus-social-network-learning-community-micr...   \n",
       "4     dungeon-corp-ltd-the-adventures-of-bob-and-tim   \n",
       "\n",
       "                                          source_url  spotlight staff_pick  \\\n",
       "0  https://www.kickstarter.com/discover/categorie...      False      False   \n",
       "1  https://www.kickstarter.com/discover/categorie...       True      False   \n",
       "2  https://www.kickstarter.com/discover/categorie...      False      False   \n",
       "3  https://www.kickstarter.com/discover/categorie...      False      False   \n",
       "4  https://www.kickstarter.com/discover/categorie...      False       True   \n",
       "\n",
       "        state  state_changed_at  static_usd_rate  \\\n",
       "0      failed        1466474764         1.000000   \n",
       "1  successful        1542304740         1.000000   \n",
       "2      failed        1439741591         1.000000   \n",
       "3      failed        1498060876         1.000000   \n",
       "4        live        1547165608         1.155864   \n",
       "\n",
       "                                                urls  usd_pledged  \\\n",
       "0  {\"web\":{\"project\":\"https://www.kickstarter.com...   205.000000   \n",
       "1  {\"web\":{\"project\":\"https://www.kickstarter.com...  6061.000000   \n",
       "2  {\"web\":{\"project\":\"https://www.kickstarter.com...   800.000000   \n",
       "3  {\"web\":{\"project\":\"https://www.kickstarter.com...  1484.000000   \n",
       "4  {\"web\":{\"project\":\"https://www.kickstarter.com...  1087.667629   \n",
       "\n",
       "        usd_type  \n",
       "0       domestic  \n",
       "1  international  \n",
       "2       domestic  \n",
       "3       domestic  \n",
       "4       domestic  \n",
       "\n",
       "[5 rows x 37 columns]"
      ]
     },
     "execution_count": 3,
     "metadata": {},
     "output_type": "execute_result"
    }
   ],
   "source": [
    "data_frame.head()"
   ]
  },
  {
   "cell_type": "code",
   "execution_count": 4,
   "metadata": {},
   "outputs": [
    {
     "data": {
      "text/plain": [
       "208474"
      ]
     },
     "execution_count": 4,
     "metadata": {},
     "output_type": "execute_result"
    }
   ],
   "source": [
    "len(data_frame)"
   ]
  },
  {
   "cell_type": "code",
   "execution_count": 5,
   "metadata": {},
   "outputs": [
    {
     "data": {
      "text/plain": [
       "Index(['backers_count', 'blurb', 'category', 'converted_pledged_amount',\n",
       "       'country', 'created_at', 'creator', 'currency', 'currency_symbol',\n",
       "       'currency_trailing_code', 'current_currency', 'deadline',\n",
       "       'disable_communication', 'friends', 'fx_rate', 'goal', 'id',\n",
       "       'is_backing', 'is_starrable', 'is_starred', 'launched_at', 'location',\n",
       "       'name', 'permissions', 'photo', 'pledged', 'profile', 'slug',\n",
       "       'source_url', 'spotlight', 'staff_pick', 'state', 'state_changed_at',\n",
       "       'static_usd_rate', 'urls', 'usd_pledged', 'usd_type'],\n",
       "      dtype='object')"
      ]
     },
     "execution_count": 5,
     "metadata": {},
     "output_type": "execute_result"
    }
   ],
   "source": [
    "data_frame.columns"
   ]
  },
  {
   "cell_type": "code",
   "execution_count": 6,
   "metadata": {},
   "outputs": [],
   "source": [
    "#dropping the unnecessary columns which has most values as NULL and the values not useful for the machine learning algorithm\n",
    "data_frame.drop(['friends', 'is_backing', 'is_starred', 'permissions','converted_pledged_amount', 'creator', 'currency', 'currency_symbol', 'currency_trailing_code', 'current_currency', 'fx_rate', 'photo', 'pledged', 'profile', 'slug', 'source_url', 'spotlight', 'state_changed_at', 'urls', 'usd_type'], axis=1, inplace=True)"
   ]
  },
  {
   "cell_type": "code",
   "execution_count": 7,
   "metadata": {},
   "outputs": [],
   "source": [
    "#converting the unix timestamp in the dataframe to 'datatime' format\n",
    "unix_ts_to_date_time = ['created_at', 'deadline', 'launched_at']\n",
    "for column in unix_ts_to_date_time:\n",
    "    data_frame[column] = pd.to_datetime(data_frame[column], origin='unix', unit='s')"
   ]
  },
  {
   "cell_type": "code",
   "execution_count": 8,
   "metadata": {},
   "outputs": [
    {
     "data": {
      "text/html": [
       "<div>\n",
       "<style scoped>\n",
       "    .dataframe tbody tr th:only-of-type {\n",
       "        vertical-align: middle;\n",
       "    }\n",
       "\n",
       "    .dataframe tbody tr th {\n",
       "        vertical-align: top;\n",
       "    }\n",
       "\n",
       "    .dataframe thead th {\n",
       "        text-align: right;\n",
       "    }\n",
       "</style>\n",
       "<table border=\"1\" class=\"dataframe\">\n",
       "  <thead>\n",
       "    <tr style=\"text-align: right;\">\n",
       "      <th></th>\n",
       "      <th>backers_count</th>\n",
       "      <th>blurb</th>\n",
       "      <th>category</th>\n",
       "      <th>country</th>\n",
       "      <th>created_at</th>\n",
       "      <th>deadline</th>\n",
       "      <th>disable_communication</th>\n",
       "      <th>goal</th>\n",
       "      <th>id</th>\n",
       "      <th>is_starrable</th>\n",
       "      <th>launched_at</th>\n",
       "      <th>location</th>\n",
       "      <th>name</th>\n",
       "      <th>staff_pick</th>\n",
       "      <th>state</th>\n",
       "      <th>static_usd_rate</th>\n",
       "      <th>usd_pledged</th>\n",
       "    </tr>\n",
       "  </thead>\n",
       "  <tbody>\n",
       "    <tr>\n",
       "      <th>0</th>\n",
       "      <td>4</td>\n",
       "      <td>Handmade glass trees that make a special Chris...</td>\n",
       "      <td>{\"id\":347,\"name\":\"Glass\",\"slug\":\"crafts/glass\"...</td>\n",
       "      <td>US</td>\n",
       "      <td>2016-06-03 04:20:02</td>\n",
       "      <td>2016-06-21 02:06:00</td>\n",
       "      <td>False</td>\n",
       "      <td>1000.0</td>\n",
       "      <td>1145008426</td>\n",
       "      <td>False</td>\n",
       "      <td>2016-06-04 02:31:55</td>\n",
       "      <td>{\"id\":2508897,\"name\":\"Turtle Lake\",\"slug\":\"tur...</td>\n",
       "      <td>Glass Christmas Trees &amp; Glass Cross</td>\n",
       "      <td>False</td>\n",
       "      <td>failed</td>\n",
       "      <td>1.000000</td>\n",
       "      <td>205.000000</td>\n",
       "    </tr>\n",
       "    <tr>\n",
       "      <th>1</th>\n",
       "      <td>171</td>\n",
       "      <td>Perfect pair of Socks for any Adventurer! Sock...</td>\n",
       "      <td>{\"id\":34,\"name\":\"Tabletop Games\",\"slug\":\"games...</td>\n",
       "      <td>US</td>\n",
       "      <td>2018-10-24 14:34:20</td>\n",
       "      <td>2018-11-15 17:59:00</td>\n",
       "      <td>False</td>\n",
       "      <td>2000.0</td>\n",
       "      <td>1687733153</td>\n",
       "      <td>False</td>\n",
       "      <td>2018-10-30 20:00:02</td>\n",
       "      <td>{\"id\":2449378,\"name\":\"Menasha\",\"slug\":\"menasha...</td>\n",
       "      <td>Socks of Speed and Socks of Elvenkind</td>\n",
       "      <td>False</td>\n",
       "      <td>successful</td>\n",
       "      <td>1.000000</td>\n",
       "      <td>6061.000000</td>\n",
       "    </tr>\n",
       "    <tr>\n",
       "      <th>2</th>\n",
       "      <td>9</td>\n",
       "      <td>This is a Series of 6 Books on Blessed Oscar A...</td>\n",
       "      <td>{\"id\":327,\"name\":\"Translations\",\"slug\":\"publis...</td>\n",
       "      <td>US</td>\n",
       "      <td>2015-06-17 23:47:06</td>\n",
       "      <td>2015-08-16 16:13:11</td>\n",
       "      <td>False</td>\n",
       "      <td>4400.0</td>\n",
       "      <td>1608693208</td>\n",
       "      <td>False</td>\n",
       "      <td>2015-07-07 16:13:11</td>\n",
       "      <td>{\"id\":2450022,\"name\":\"Miami\",\"slug\":\"miami-fl\"...</td>\n",
       "      <td>The Complete Homilies of Blessed Oscar Romero:...</td>\n",
       "      <td>False</td>\n",
       "      <td>failed</td>\n",
       "      <td>1.000000</td>\n",
       "      <td>800.000000</td>\n",
       "    </tr>\n",
       "    <tr>\n",
       "      <th>3</th>\n",
       "      <td>24</td>\n",
       "      <td>Prodeus makes self employment simple and intui...</td>\n",
       "      <td>{\"id\":342,\"name\":\"Web\",\"slug\":\"technology/web\"...</td>\n",
       "      <td>US</td>\n",
       "      <td>2017-05-05 15:10:43</td>\n",
       "      <td>2017-06-21 16:01:16</td>\n",
       "      <td>False</td>\n",
       "      <td>50000.0</td>\n",
       "      <td>66308869</td>\n",
       "      <td>False</td>\n",
       "      <td>2017-05-22 16:01:16</td>\n",
       "      <td>{\"id\":12589335,\"name\":\"Brooklyn\",\"slug\":\"brook...</td>\n",
       "      <td>Prodeus: The Future of Work &amp; Learning</td>\n",
       "      <td>False</td>\n",
       "      <td>failed</td>\n",
       "      <td>1.000000</td>\n",
       "      <td>1484.000000</td>\n",
       "    </tr>\n",
       "    <tr>\n",
       "      <th>4</th>\n",
       "      <td>62</td>\n",
       "      <td>Welcome to Dungeon Corp LTD, a Dungeons and Dr...</td>\n",
       "      <td>{\"id\":250,\"name\":\"Comic Books\",\"slug\":\"comics/...</td>\n",
       "      <td>ES</td>\n",
       "      <td>2018-12-11 16:33:32</td>\n",
       "      <td>2019-02-15 00:13:28</td>\n",
       "      <td>False</td>\n",
       "      <td>700.0</td>\n",
       "      <td>654590050</td>\n",
       "      <td>False</td>\n",
       "      <td>2019-01-11 00:13:28</td>\n",
       "      <td>{\"id\":777341,\"name\":\"Vigo\",\"slug\":\"vigo-vigo-e...</td>\n",
       "      <td>Dungeon Corp LTD.: The Adventures of Bob and Tim.</td>\n",
       "      <td>True</td>\n",
       "      <td>live</td>\n",
       "      <td>1.155864</td>\n",
       "      <td>1087.667629</td>\n",
       "    </tr>\n",
       "  </tbody>\n",
       "</table>\n",
       "</div>"
      ],
      "text/plain": [
       "   backers_count                                              blurb  \\\n",
       "0              4  Handmade glass trees that make a special Chris...   \n",
       "1            171  Perfect pair of Socks for any Adventurer! Sock...   \n",
       "2              9  This is a Series of 6 Books on Blessed Oscar A...   \n",
       "3             24  Prodeus makes self employment simple and intui...   \n",
       "4             62  Welcome to Dungeon Corp LTD, a Dungeons and Dr...   \n",
       "\n",
       "                                            category country  \\\n",
       "0  {\"id\":347,\"name\":\"Glass\",\"slug\":\"crafts/glass\"...      US   \n",
       "1  {\"id\":34,\"name\":\"Tabletop Games\",\"slug\":\"games...      US   \n",
       "2  {\"id\":327,\"name\":\"Translations\",\"slug\":\"publis...      US   \n",
       "3  {\"id\":342,\"name\":\"Web\",\"slug\":\"technology/web\"...      US   \n",
       "4  {\"id\":250,\"name\":\"Comic Books\",\"slug\":\"comics/...      ES   \n",
       "\n",
       "           created_at            deadline  disable_communication     goal  \\\n",
       "0 2016-06-03 04:20:02 2016-06-21 02:06:00                  False   1000.0   \n",
       "1 2018-10-24 14:34:20 2018-11-15 17:59:00                  False   2000.0   \n",
       "2 2015-06-17 23:47:06 2015-08-16 16:13:11                  False   4400.0   \n",
       "3 2017-05-05 15:10:43 2017-06-21 16:01:16                  False  50000.0   \n",
       "4 2018-12-11 16:33:32 2019-02-15 00:13:28                  False    700.0   \n",
       "\n",
       "           id  is_starrable         launched_at  \\\n",
       "0  1145008426         False 2016-06-04 02:31:55   \n",
       "1  1687733153         False 2018-10-30 20:00:02   \n",
       "2  1608693208         False 2015-07-07 16:13:11   \n",
       "3    66308869         False 2017-05-22 16:01:16   \n",
       "4   654590050         False 2019-01-11 00:13:28   \n",
       "\n",
       "                                            location  \\\n",
       "0  {\"id\":2508897,\"name\":\"Turtle Lake\",\"slug\":\"tur...   \n",
       "1  {\"id\":2449378,\"name\":\"Menasha\",\"slug\":\"menasha...   \n",
       "2  {\"id\":2450022,\"name\":\"Miami\",\"slug\":\"miami-fl\"...   \n",
       "3  {\"id\":12589335,\"name\":\"Brooklyn\",\"slug\":\"brook...   \n",
       "4  {\"id\":777341,\"name\":\"Vigo\",\"slug\":\"vigo-vigo-e...   \n",
       "\n",
       "                                                name  staff_pick       state  \\\n",
       "0                Glass Christmas Trees & Glass Cross       False      failed   \n",
       "1              Socks of Speed and Socks of Elvenkind       False  successful   \n",
       "2  The Complete Homilies of Blessed Oscar Romero:...       False      failed   \n",
       "3             Prodeus: The Future of Work & Learning       False      failed   \n",
       "4  Dungeon Corp LTD.: The Adventures of Bob and Tim.        True        live   \n",
       "\n",
       "   static_usd_rate  usd_pledged  \n",
       "0         1.000000   205.000000  \n",
       "1         1.000000  6061.000000  \n",
       "2         1.000000   800.000000  \n",
       "3         1.000000  1484.000000  \n",
       "4         1.155864  1087.667629  "
      ]
     },
     "execution_count": 8,
     "metadata": {},
     "output_type": "execute_result"
    }
   ],
   "source": [
    "#Data Frame after converting the timestamps from Unix to 'Datetime' format\n",
    "data_frame.head()"
   ]
  },
  {
   "cell_type": "code",
   "execution_count": 9,
   "metadata": {},
   "outputs": [],
   "source": [
    "#As the project description will not be used to analyze any text content, we are converting it into description \n",
    "#length by adding a new column for it\n",
    "data_frame['blurb_length'] = data_frame['blurb'].str.split().str.len()\n",
    "\n",
    "#Removing the project description column\n",
    "data_frame.drop('blurb', axis=1, inplace=True)"
   ]
  },
  {
   "cell_type": "code",
   "execution_count": 10,
   "metadata": {},
   "outputs": [],
   "source": [
    "# Extracting the categories and the sub-categories of each project to be used in training the model\n",
    "# The categories are extracted from the Category column in the Data Frame\n",
    "data_frame.iloc[0]['category']\n",
    "categories = lambda x: x['category'].split('/')[1].split('\",\"position')[0]\n",
    "data_frame['sub_category'] = data_frame.apply(categories, axis=1)\n",
    "\n",
    "categories = lambda x: x['category'].split('\"slug\":\"')[1].split('/')[0]\n",
    "data_frame['category'] = data_frame.apply(categories, axis=1)\n",
    "categories = lambda x: x['category'].split('\",\"position\"')[0] \n",
    "data_frame['category'] = data_frame.apply(categories, axis=1)"
   ]
  },
  {
   "cell_type": "code",
   "execution_count": 11,
   "metadata": {},
   "outputs": [],
   "source": [
    "# Since the initial promised funding for each prject is mentioned in different currencies, we are converting all\n",
    "#into USD for better training of the model\n",
    "data_frame.drop('disable_communication', axis=1, inplace=True)\n",
    "data_frame['usd_goal'] = round(data_frame['goal'] * data_frame['static_usd_rate'],2)\n",
    "data_frame.drop(['goal', 'static_usd_rate'], axis=1, inplace=True)"
   ]
  },
  {
   "cell_type": "code",
   "execution_count": 12,
   "metadata": {},
   "outputs": [],
   "source": [
    "data_frame.drop('location', axis=1, inplace=True)"
   ]
  },
  {
   "cell_type": "code",
   "execution_count": 13,
   "metadata": {},
   "outputs": [],
   "source": [
    "# Similar to description length, we are converting the name column to length by adding a new column name_length\n",
    "#and removing the existing 'name' column from the dataframe\n",
    "data_frame['name_length'] = data_frame['name'].str.split().str.len()\n",
    "# Drop name variable\n",
    "data_frame.drop('name', axis=1, inplace=True)"
   ]
  },
  {
   "cell_type": "code",
   "execution_count": 14,
   "metadata": {},
   "outputs": [],
   "source": [
    "#Rounding off the funding amount to 3 decimal places\n",
    "data_frame['usd_pledged'] = round(data_frame['usd_pledged'],3)"
   ]
  },
  {
   "cell_type": "code",
   "execution_count": 15,
   "metadata": {},
   "outputs": [],
   "source": [
    "#Time between creating and launching a project and rounding off to the nearest number of days\n",
    "data_frame['time_taken_to_launch'] = data_frame['launched_at'] - data_frame['created_at']\n",
    "data_frame['time_taken_to_launch'] = data_frame['time_taken_to_launch'].dt.round('d').dt.days "
   ]
  },
  {
   "cell_type": "code",
   "execution_count": 16,
   "metadata": {},
   "outputs": [],
   "source": [
    "#calculating the mean amount granted per backer for each project\n",
    "data_frame['mean_amount_per_backer'] = round(data_frame['usd_pledged']/data_frame['backers_count'],2)"
   ]
  },
  {
   "cell_type": "code",
   "execution_count": 17,
   "metadata": {},
   "outputs": [],
   "source": [
    "data_frame.blurb_length.fillna(0, inplace=True)"
   ]
  },
  {
   "cell_type": "code",
   "execution_count": 18,
   "metadata": {},
   "outputs": [],
   "source": [
    "#Since the projects mentioned in the data have different states such as 'Successfull', 'failed', 'cancelled'\n",
    "#'Live', and 'suspended', we are only considering the states of 'success' and 'failure' for better model training\n",
    "data_frame = data_frame[data_frame['state'].isin(['successful', 'failed'])]"
   ]
  },
  {
   "cell_type": "code",
   "execution_count": 19,
   "metadata": {},
   "outputs": [],
   "source": [
    "#Removing all the duplicates from the data and keeping only the unique data\n",
    "data_frame.drop_duplicates(inplace=True)"
   ]
  },
  {
   "cell_type": "code",
   "execution_count": 20,
   "metadata": {},
   "outputs": [
    {
     "name": "stdout",
     "output_type": "stream",
     "text": [
      "The number rows in the dataset after removing the duplicates are 168741\n"
     ]
    }
   ],
   "source": [
    "print(\"The number rows in the dataset after removing the duplicates are \" + str(len(data_frame)))"
   ]
  },
  {
   "cell_type": "code",
   "execution_count": 21,
   "metadata": {},
   "outputs": [],
   "source": [
    "data_frame.set_index('id', inplace=True)"
   ]
  },
  {
   "cell_type": "code",
   "execution_count": 22,
   "metadata": {},
   "outputs": [
    {
     "data": {
      "image/png": "[encoded data removed]",
      "text/plain": [
       "<Figure size 1152x432 with 1 Axes>"
      ]
     },
     "metadata": {
      "needs_background": "light"
     },
     "output_type": "display_data"
    }
   ],
   "source": [
    "# Plotting the number of projects launched each month\n",
    "plt.figure(figsize=(16,6))\n",
    "data_frame.set_index('launched_at').category.resample('MS').count().plot()\n",
    "plt.xlim('2009-01-28', '2019-02-01') # Limiting to whole months\n",
    "plt.xlabel('Date of Project Launch', fontsize=12)\n",
    "plt.ylabel('Projects', fontsize=12)\n",
    "plt.title('Projects launched from 2009 through 2019', fontsize=16)\n",
    "plt.show()"
   ]
  },
  {
   "cell_type": "code",
   "execution_count": 23,
   "metadata": {},
   "outputs": [
    {
     "data": {
      "text/html": [
       "<div>\n",
       "<style scoped>\n",
       "    .dataframe tbody tr th:only-of-type {\n",
       "        vertical-align: middle;\n",
       "    }\n",
       "\n",
       "    .dataframe tbody tr th {\n",
       "        vertical-align: top;\n",
       "    }\n",
       "\n",
       "    .dataframe thead th {\n",
       "        text-align: right;\n",
       "    }\n",
       "</style>\n",
       "<table border=\"1\" class=\"dataframe\">\n",
       "  <thead>\n",
       "    <tr style=\"text-align: right;\">\n",
       "      <th></th>\n",
       "      <th>category</th>\n",
       "      <th>country</th>\n",
       "      <th>staff_pick</th>\n",
       "      <th>state</th>\n",
       "      <th>blurb_length</th>\n",
       "      <th>usd_goal</th>\n",
       "      <th>name_length</th>\n",
       "      <th>time_taken_to_launch</th>\n",
       "    </tr>\n",
       "    <tr>\n",
       "      <th>id</th>\n",
       "      <th></th>\n",
       "      <th></th>\n",
       "      <th></th>\n",
       "      <th></th>\n",
       "      <th></th>\n",
       "      <th></th>\n",
       "      <th></th>\n",
       "      <th></th>\n",
       "    </tr>\n",
       "  </thead>\n",
       "  <tbody>\n",
       "    <tr>\n",
       "      <th>1145008426</th>\n",
       "      <td>crafts</td>\n",
       "      <td>US</td>\n",
       "      <td>False</td>\n",
       "      <td>failed</td>\n",
       "      <td>22.0</td>\n",
       "      <td>1000.0</td>\n",
       "      <td>6</td>\n",
       "      <td>1</td>\n",
       "    </tr>\n",
       "    <tr>\n",
       "      <th>1687733153</th>\n",
       "      <td>games</td>\n",
       "      <td>US</td>\n",
       "      <td>False</td>\n",
       "      <td>successful</td>\n",
       "      <td>14.0</td>\n",
       "      <td>2000.0</td>\n",
       "      <td>7</td>\n",
       "      <td>6</td>\n",
       "    </tr>\n",
       "    <tr>\n",
       "      <th>1608693208</th>\n",
       "      <td>publishing</td>\n",
       "      <td>US</td>\n",
       "      <td>False</td>\n",
       "      <td>failed</td>\n",
       "      <td>25.0</td>\n",
       "      <td>4400.0</td>\n",
       "      <td>9</td>\n",
       "      <td>20</td>\n",
       "    </tr>\n",
       "    <tr>\n",
       "      <th>66308869</th>\n",
       "      <td>technology</td>\n",
       "      <td>US</td>\n",
       "      <td>False</td>\n",
       "      <td>failed</td>\n",
       "      <td>16.0</td>\n",
       "      <td>50000.0</td>\n",
       "      <td>7</td>\n",
       "      <td>17</td>\n",
       "    </tr>\n",
       "    <tr>\n",
       "      <th>227936657</th>\n",
       "      <td>comics</td>\n",
       "      <td>GB</td>\n",
       "      <td>False</td>\n",
       "      <td>successful</td>\n",
       "      <td>24.0</td>\n",
       "      <td>3901.5</td>\n",
       "      <td>8</td>\n",
       "      <td>12</td>\n",
       "    </tr>\n",
       "  </tbody>\n",
       "</table>\n",
       "</div>"
      ],
      "text/plain": [
       "              category country  staff_pick       state  blurb_length  \\\n",
       "id                                                                     \n",
       "1145008426      crafts      US       False      failed          22.0   \n",
       "1687733153       games      US       False  successful          14.0   \n",
       "1608693208  publishing      US       False      failed          25.0   \n",
       "66308869    technology      US       False      failed          16.0   \n",
       "227936657       comics      GB       False  successful          24.0   \n",
       "\n",
       "            usd_goal  name_length  time_taken_to_launch  \n",
       "id                                                       \n",
       "1145008426    1000.0            6                     1  \n",
       "1687733153    2000.0            7                     6  \n",
       "1608693208    4400.0            9                    20  \n",
       "66308869     50000.0            7                    17  \n",
       "227936657     3901.5            8                    12  "
      ]
     },
     "execution_count": 23,
     "metadata": {},
     "output_type": "execute_result"
    }
   ],
   "source": [
    "# Dropping columns and creating new dataframe\n",
    "transformed_data = data_frame.drop(['backers_count', 'created_at', 'deadline', 'is_starrable', 'launched_at', 'usd_pledged', 'sub_category', 'mean_amount_per_backer'], axis=1)\n",
    "transformed_data.head()"
   ]
  },
  {
   "cell_type": "code",
   "execution_count": 24,
   "metadata": {},
   "outputs": [
    {
     "data": {
      "text/plain": [
       "Index(['state', 'blurb_length', 'usd_goal', 'name_length',\n",
       "       'time_taken_to_launch', 'category_art', 'category_comics',\n",
       "       'category_crafts', 'category_dance', 'category_design',\n",
       "       'category_fashion', 'category_film & video', 'category_food',\n",
       "       'category_games', 'category_journalism', 'category_music',\n",
       "       'category_photography', 'category_publishing', 'category_technology',\n",
       "       'category_theater', 'country_AT', 'country_AU', 'country_BE',\n",
       "       'country_CA', 'country_CH', 'country_DE', 'country_DK', 'country_ES',\n",
       "       'country_FR', 'country_GB', 'country_HK', 'country_IE', 'country_IT',\n",
       "       'country_JP', 'country_LU', 'country_MX', 'country_NL', 'country_NO',\n",
       "       'country_NZ', 'country_SE', 'country_SG', 'country_US',\n",
       "       'staff_pick_False', 'staff_pick_True'],\n",
       "      dtype='object')"
      ]
     },
     "execution_count": 24,
     "metadata": {},
     "output_type": "execute_result"
    }
   ],
   "source": [
    "#Converting the results of projects 'success' to 1 and 'failure' to 0 which would be fed to the machine learning\n",
    "#algorithm\n",
    "transformed_data['state'] = transformed_data['state'].replace({'failed': 0, 'successful': 1})\n",
    "\n",
    "# Creating dummy variables\n",
    "transformed_data['staff_pick'] = transformed_data['staff_pick'].astype(str)\n",
    "transformed_data = pd.get_dummies(transformed_data)\n",
    "transformed_data.columns"
   ]
  },
  {
   "cell_type": "code",
   "execution_count": 25,
   "metadata": {},
   "outputs": [
    {
     "name": "stderr",
     "output_type": "stream",
     "text": [
      "C:\\ProgramData\\Anaconda3\\lib\\site-packages\\sklearn\\preprocessing\\data.py:625: DataConversionWarning: Data with input dtype uint8, int64, float64 were all converted to float64 by StandardScaler.\n",
      "  return self.partial_fit(X, y)\n",
      "C:\\ProgramData\\Anaconda3\\lib\\site-packages\\sklearn\\base.py:462: DataConversionWarning: Data with input dtype uint8, int64, float64 were all converted to float64 by StandardScaler.\n",
      "  return self.fit(X, **fit_params).transform(X)\n"
     ]
    },
    {
     "data": {
      "text/html": [
       "<div>\n",
       "<style scoped>\n",
       "    .dataframe tbody tr th:only-of-type {\n",
       "        vertical-align: middle;\n",
       "    }\n",
       "\n",
       "    .dataframe tbody tr th {\n",
       "        vertical-align: top;\n",
       "    }\n",
       "\n",
       "    .dataframe thead th {\n",
       "        text-align: right;\n",
       "    }\n",
       "</style>\n",
       "<table border=\"1\" class=\"dataframe\">\n",
       "  <thead>\n",
       "    <tr style=\"text-align: right;\">\n",
       "      <th></th>\n",
       "      <th>blurb_length</th>\n",
       "      <th>usd_goal</th>\n",
       "      <th>name_length</th>\n",
       "      <th>time_taken_to_launch</th>\n",
       "      <th>category_art</th>\n",
       "      <th>category_comics</th>\n",
       "      <th>category_crafts</th>\n",
       "      <th>category_dance</th>\n",
       "      <th>category_design</th>\n",
       "      <th>category_fashion</th>\n",
       "      <th>...</th>\n",
       "      <th>country_LU</th>\n",
       "      <th>country_MX</th>\n",
       "      <th>country_NL</th>\n",
       "      <th>country_NO</th>\n",
       "      <th>country_NZ</th>\n",
       "      <th>country_SE</th>\n",
       "      <th>country_SG</th>\n",
       "      <th>country_US</th>\n",
       "      <th>staff_pick_False</th>\n",
       "      <th>staff_pick_True</th>\n",
       "    </tr>\n",
       "  </thead>\n",
       "  <tbody>\n",
       "    <tr>\n",
       "      <th>0</th>\n",
       "      <td>0.596046</td>\n",
       "      <td>-0.036100</td>\n",
       "      <td>0.107456</td>\n",
       "      <td>-0.358990</td>\n",
       "      <td>-0.345042</td>\n",
       "      <td>-0.196935</td>\n",
       "      <td>5.475801</td>\n",
       "      <td>-0.134971</td>\n",
       "      <td>-0.190162</td>\n",
       "      <td>-0.235519</td>\n",
       "      <td>...</td>\n",
       "      <td>-0.015965</td>\n",
       "      <td>-0.099403</td>\n",
       "      <td>-0.0931</td>\n",
       "      <td>-0.048439</td>\n",
       "      <td>-0.066862</td>\n",
       "      <td>-0.079922</td>\n",
       "      <td>-0.053299</td>\n",
       "      <td>0.614355</td>\n",
       "      <td>0.382918</td>\n",
       "      <td>-0.382918</td>\n",
       "    </tr>\n",
       "    <tr>\n",
       "      <th>1</th>\n",
       "      <td>-1.017775</td>\n",
       "      <td>-0.035200</td>\n",
       "      <td>0.476740</td>\n",
       "      <td>-0.319698</td>\n",
       "      <td>-0.345042</td>\n",
       "      <td>-0.196935</td>\n",
       "      <td>-0.182622</td>\n",
       "      <td>-0.134971</td>\n",
       "      <td>-0.190162</td>\n",
       "      <td>-0.235519</td>\n",
       "      <td>...</td>\n",
       "      <td>-0.015965</td>\n",
       "      <td>-0.099403</td>\n",
       "      <td>-0.0931</td>\n",
       "      <td>-0.048439</td>\n",
       "      <td>-0.066862</td>\n",
       "      <td>-0.079922</td>\n",
       "      <td>-0.053299</td>\n",
       "      <td>0.614355</td>\n",
       "      <td>0.382918</td>\n",
       "      <td>-0.382918</td>\n",
       "    </tr>\n",
       "    <tr>\n",
       "      <th>2</th>\n",
       "      <td>1.201228</td>\n",
       "      <td>-0.033040</td>\n",
       "      <td>1.215309</td>\n",
       "      <td>-0.209681</td>\n",
       "      <td>-0.345042</td>\n",
       "      <td>-0.196935</td>\n",
       "      <td>-0.182622</td>\n",
       "      <td>-0.134971</td>\n",
       "      <td>-0.190162</td>\n",
       "      <td>-0.235519</td>\n",
       "      <td>...</td>\n",
       "      <td>-0.015965</td>\n",
       "      <td>-0.099403</td>\n",
       "      <td>-0.0931</td>\n",
       "      <td>-0.048439</td>\n",
       "      <td>-0.066862</td>\n",
       "      <td>-0.079922</td>\n",
       "      <td>-0.053299</td>\n",
       "      <td>0.614355</td>\n",
       "      <td>0.382918</td>\n",
       "      <td>-0.382918</td>\n",
       "    </tr>\n",
       "    <tr>\n",
       "      <th>3</th>\n",
       "      <td>-0.614320</td>\n",
       "      <td>0.007987</td>\n",
       "      <td>0.476740</td>\n",
       "      <td>-0.233256</td>\n",
       "      <td>-0.345042</td>\n",
       "      <td>-0.196935</td>\n",
       "      <td>-0.182622</td>\n",
       "      <td>-0.134971</td>\n",
       "      <td>-0.190162</td>\n",
       "      <td>-0.235519</td>\n",
       "      <td>...</td>\n",
       "      <td>-0.015965</td>\n",
       "      <td>-0.099403</td>\n",
       "      <td>-0.0931</td>\n",
       "      <td>-0.048439</td>\n",
       "      <td>-0.066862</td>\n",
       "      <td>-0.079922</td>\n",
       "      <td>-0.053299</td>\n",
       "      <td>0.614355</td>\n",
       "      <td>0.382918</td>\n",
       "      <td>-0.382918</td>\n",
       "    </tr>\n",
       "    <tr>\n",
       "      <th>4</th>\n",
       "      <td>0.999501</td>\n",
       "      <td>-0.033489</td>\n",
       "      <td>0.846025</td>\n",
       "      <td>-0.272548</td>\n",
       "      <td>-0.345042</td>\n",
       "      <td>5.077823</td>\n",
       "      <td>-0.182622</td>\n",
       "      <td>-0.134971</td>\n",
       "      <td>-0.190162</td>\n",
       "      <td>-0.235519</td>\n",
       "      <td>...</td>\n",
       "      <td>-0.015965</td>\n",
       "      <td>-0.099403</td>\n",
       "      <td>-0.0931</td>\n",
       "      <td>-0.048439</td>\n",
       "      <td>-0.066862</td>\n",
       "      <td>-0.079922</td>\n",
       "      <td>-0.053299</td>\n",
       "      <td>-1.627722</td>\n",
       "      <td>0.382918</td>\n",
       "      <td>-0.382918</td>\n",
       "    </tr>\n",
       "  </tbody>\n",
       "</table>\n",
       "<p>5 rows × 43 columns</p>\n",
       "</div>"
      ],
      "text/plain": [
       "   blurb_length  usd_goal  name_length  time_taken_to_launch  category_art  \\\n",
       "0      0.596046 -0.036100     0.107456             -0.358990     -0.345042   \n",
       "1     -1.017775 -0.035200     0.476740             -0.319698     -0.345042   \n",
       "2      1.201228 -0.033040     1.215309             -0.209681     -0.345042   \n",
       "3     -0.614320  0.007987     0.476740             -0.233256     -0.345042   \n",
       "4      0.999501 -0.033489     0.846025             -0.272548     -0.345042   \n",
       "\n",
       "   category_comics  category_crafts  category_dance  category_design  \\\n",
       "0        -0.196935         5.475801       -0.134971        -0.190162   \n",
       "1        -0.196935        -0.182622       -0.134971        -0.190162   \n",
       "2        -0.196935        -0.182622       -0.134971        -0.190162   \n",
       "3        -0.196935        -0.182622       -0.134971        -0.190162   \n",
       "4         5.077823        -0.182622       -0.134971        -0.190162   \n",
       "\n",
       "   category_fashion       ...         country_LU  country_MX  country_NL  \\\n",
       "0         -0.235519       ...          -0.015965   -0.099403     -0.0931   \n",
       "1         -0.235519       ...          -0.015965   -0.099403     -0.0931   \n",
       "2         -0.235519       ...          -0.015965   -0.099403     -0.0931   \n",
       "3         -0.235519       ...          -0.015965   -0.099403     -0.0931   \n",
       "4         -0.235519       ...          -0.015965   -0.099403     -0.0931   \n",
       "\n",
       "   country_NO  country_NZ  country_SE  country_SG  country_US  \\\n",
       "0   -0.048439   -0.066862   -0.079922   -0.053299    0.614355   \n",
       "1   -0.048439   -0.066862   -0.079922   -0.053299    0.614355   \n",
       "2   -0.048439   -0.066862   -0.079922   -0.053299    0.614355   \n",
       "3   -0.048439   -0.066862   -0.079922   -0.053299    0.614355   \n",
       "4   -0.048439   -0.066862   -0.079922   -0.053299   -1.627722   \n",
       "\n",
       "   staff_pick_False  staff_pick_True  \n",
       "0          0.382918        -0.382918  \n",
       "1          0.382918        -0.382918  \n",
       "2          0.382918        -0.382918  \n",
       "3          0.382918        -0.382918  \n",
       "4          0.382918        -0.382918  \n",
       "\n",
       "[5 rows x 43 columns]"
      ]
     },
     "execution_count": 25,
     "metadata": {},
     "output_type": "execute_result"
    }
   ],
   "source": [
    "#Transforming the data into X and y i.e. dependent and independent variables and scaling the data\n",
    "X = transformed_data.drop('state', axis=1)\n",
    "y = transformed_data.state\n",
    "scaler = StandardScaler()\n",
    "X = pd.DataFrame(scaler.fit_transform(X), columns=list(X.columns))\n",
    "X.head()"
   ]
  },
  {
   "cell_type": "code",
   "execution_count": 26,
   "metadata": {},
   "outputs": [],
   "source": [
    "# Splitting into train and test sets\n",
    "X_train, X_test, y_train, y_test = train_test_split(X,y, test_size=0.3, random_state=12)"
   ]
  },
  {
   "cell_type": "code",
   "execution_count": 35,
   "metadata": {},
   "outputs": [
    {
     "data": {
      "text/plain": [
       "LogisticRegression(C=1.0, class_weight=None, dual=False, fit_intercept=True,\n",
       "          intercept_scaling=1, max_iter=100, multi_class='ovr',\n",
       "          n_jobs=None, penalty='l2', random_state=None, solver='lbfgs',\n",
       "          tol=0.0001, verbose=0, warm_start=False)"
      ]
     },
     "execution_count": 35,
     "metadata": {},
     "output_type": "execute_result"
    }
   ],
   "source": [
    "# Using Logistic regression classifier\n",
    "clf = LogisticRegression(solver='lbfgs',multi_class='ovr')\n",
    "clf.fit(X_train,y_train)"
   ]
  },
  {
   "cell_type": "code",
   "execution_count": 36,
   "metadata": {},
   "outputs": [
    {
     "name": "stdout",
     "output_type": "stream",
     "text": [
      "              precision    recall  f1-score   support\n",
      "\n",
      "           0       0.70      0.56      0.62     22308\n",
      "           1       0.70      0.81      0.75     28315\n",
      "\n",
      "   micro avg       0.70      0.70      0.70     50623\n",
      "   macro avg       0.70      0.69      0.69     50623\n",
      "weighted avg       0.70      0.70      0.70     50623\n",
      "\n"
     ]
    }
   ],
   "source": [
    "# y_pred_train = clf.predict(X_train)\n",
    "y_pred = clf.predict(X_test)\n",
    "print(classification_report(y_test, y_pred))"
   ]
  },
  {
   "cell_type": "code",
   "execution_count": 37,
   "metadata": {},
   "outputs": [
    {
     "name": "stdout",
     "output_type": "stream",
     "text": [
      "The confusion matrix is: \n",
      "[[12469  9839]\n",
      " [ 5256 23059]]\n"
     ]
    }
   ],
   "source": [
    "cf = confusion_matrix(y_test, y_pred)\n",
    "print(\"The confusion matrix is: \")\n",
    "print(cf)"
   ]
  },
  {
   "cell_type": "code",
   "execution_count": 38,
   "metadata": {},
   "outputs": [
    {
     "data": {
      "text/plain": [
       "0.7018153803607056"
      ]
     },
     "execution_count": 38,
     "metadata": {},
     "output_type": "execute_result"
    }
   ],
   "source": [
    "from sklearn.metrics import accuracy_score\n",
    "accuracy_score(y_test, y_pred)"
   ]
  },
  {
   "cell_type": "code",
   "execution_count": 63,
   "metadata": {},
   "outputs": [
    {
     "data": {
      "text/plain": [
       "RandomForestClassifier(bootstrap=True, class_weight=None, criterion='gini',\n",
       "            max_depth=4, max_features='auto', max_leaf_nodes=None,\n",
       "            min_impurity_decrease=0.0, min_impurity_split=None,\n",
       "            min_samples_leaf=1, min_samples_split=2,\n",
       "            min_weight_fraction_leaf=0.0, n_estimators=1000, n_jobs=None,\n",
       "            oob_score=False, random_state=None, verbose=0,\n",
       "            warm_start=False)"
      ]
     },
     "execution_count": 63,
     "metadata": {},
     "output_type": "execute_result"
    }
   ],
   "source": [
    "from sklearn.ensemble import RandomForestClassifier\n",
    "clf2 = RandomForestClassifier(n_estimators=1000,max_depth=4)\n",
    "clf2.fit(X_train,y_train)"
   ]
  },
  {
   "cell_type": "code",
   "execution_count": 64,
   "metadata": {},
   "outputs": [
    {
     "name": "stdout",
     "output_type": "stream",
     "text": [
      "              precision    recall  f1-score   support\n",
      "\n",
      "           0       0.76      0.49      0.60     22308\n",
      "           1       0.69      0.88      0.77     28315\n",
      "\n",
      "   micro avg       0.71      0.71      0.71     50623\n",
      "   macro avg       0.72      0.69      0.68     50623\n",
      "weighted avg       0.72      0.71      0.69     50623\n",
      "\n"
     ]
    }
   ],
   "source": [
    "y_pred_2 = clf2.predict(X_test)\n",
    "print(classification_report(y_test, y_pred_2))"
   ]
  },
  {
   "cell_type": "code",
   "execution_count": 65,
   "metadata": {},
   "outputs": [
    {
     "name": "stdout",
     "output_type": "stream",
     "text": [
      "The confusion matrix is: \n",
      "[[11005 11303]\n",
      " [ 3478 24837]]\n"
     ]
    }
   ],
   "source": [
    "cf = confusion_matrix(y_test, y_pred_2)\n",
    "print(\"The confusion matrix is: \")\n",
    "print(cf)"
   ]
  },
  {
   "cell_type": "code",
   "execution_count": 66,
   "metadata": {},
   "outputs": [
    {
     "data": {
      "text/plain": [
       "0.7080180945420066"
      ]
     },
     "execution_count": 66,
     "metadata": {},
     "output_type": "execute_result"
    }
   ],
   "source": [
    "from sklearn.metrics import accuracy_score\n",
    "accuracy_score(y_test, y_pred_2)"
   ]
  },
  {
   "cell_type": "code",
   "execution_count": null,
   "metadata": {},
   "outputs": [],
   "source": []
  }
 ],
 "metadata": {
  "kernelspec": {
   "display_name": "Python 3",
   "language": "python",
   "name": "python3"
  },
  "language_info": {
   "codemirror_mode": {
    "name": "ipython",
    "version": 3
   },
   "file_extension": ".py",
   "mimetype": "text/x-python",
   "name": "python",
   "nbconvert_exporter": "python",
   "pygments_lexer": "ipython3",
   "version": "3.6.6"
  }
 },
 "nbformat": 4,
 "nbformat_minor": 2
}
